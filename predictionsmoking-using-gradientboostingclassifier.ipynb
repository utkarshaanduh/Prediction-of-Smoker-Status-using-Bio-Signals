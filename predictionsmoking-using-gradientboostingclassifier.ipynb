{
 "cells": [
  {
   "cell_type": "code",
   "execution_count": 1,
   "id": "aef70652",
   "metadata": {
    "_cell_guid": "b1076dfc-b9ad-4769-8c92-a6c4dae69d19",
    "_uuid": "8f2839f25d086af736a60e9eeb907d3b93b6e0e5",
    "execution": {
     "iopub.execute_input": "2024-05-07T10:39:05.340546Z",
     "iopub.status.busy": "2024-05-07T10:39:05.339885Z",
     "iopub.status.idle": "2024-05-07T10:39:08.393734Z",
     "shell.execute_reply": "2024-05-07T10:39:08.392462Z"
    },
    "papermill": {
     "duration": 3.06725,
     "end_time": "2024-05-07T10:39:08.396791",
     "exception": false,
     "start_time": "2024-05-07T10:39:05.329541",
     "status": "completed"
    },
    "tags": []
   },
   "outputs": [],
   "source": [
    "import pandas as pd\n",
    "from sklearn.model_selection import train_test_split\n",
    "from sklearn.ensemble import GradientBoostingClassifier\n",
    "from sklearn.metrics import roc_auc_score"
   ]
  },
  {
   "cell_type": "markdown",
   "id": "8ece658c",
   "metadata": {
    "papermill": {
     "duration": 0.00735,
     "end_time": "2024-05-07T10:39:08.412155",
     "exception": false,
     "start_time": "2024-05-07T10:39:08.404805",
     "status": "completed"
    },
    "tags": []
   },
   "source": [
    "# Load the data"
   ]
  },
  {
   "cell_type": "code",
   "execution_count": 2,
   "id": "b2b4d3b7",
   "metadata": {
    "_cell_guid": "b1076dfc-b9ad-4769-8c92-a6c4dae69d19",
    "_uuid": "8f2839f25d086af736a60e9eeb907d3b93b6e0e5",
    "execution": {
     "iopub.execute_input": "2024-05-07T10:39:08.429533Z",
     "iopub.status.busy": "2024-05-07T10:39:08.428990Z",
     "iopub.status.idle": "2024-05-07T10:39:09.588471Z",
     "shell.execute_reply": "2024-05-07T10:39:09.586994Z"
    },
    "papermill": {
     "duration": 1.171792,
     "end_time": "2024-05-07T10:39:09.591532",
     "exception": false,
     "start_time": "2024-05-07T10:39:08.419740",
     "status": "completed"
    },
    "tags": []
   },
   "outputs": [],
   "source": [
    "\n",
    "train_data = pd.read_csv('/kaggle/input/playground-series-s3e24/train.csv')\n",
    "test_data = pd.read_csv('/kaggle/input/playground-series-s3e24/test.csv')"
   ]
  },
  {
   "cell_type": "markdown",
   "id": "310f0c26",
   "metadata": {
    "papermill": {
     "duration": 0.007867,
     "end_time": "2024-05-07T10:39:09.608445",
     "exception": false,
     "start_time": "2024-05-07T10:39:09.600578",
     "status": "completed"
    },
    "tags": []
   },
   "source": [
    "# Split features and target variable"
   ]
  },
  {
   "cell_type": "code",
   "execution_count": 3,
   "id": "6d5a2a6b",
   "metadata": {
    "_cell_guid": "b1076dfc-b9ad-4769-8c92-a6c4dae69d19",
    "_uuid": "8f2839f25d086af736a60e9eeb907d3b93b6e0e5",
    "execution": {
     "iopub.execute_input": "2024-05-07T10:39:09.626248Z",
     "iopub.status.busy": "2024-05-07T10:39:09.625659Z",
     "iopub.status.idle": "2024-05-07T10:39:09.652746Z",
     "shell.execute_reply": "2024-05-07T10:39:09.651086Z"
    },
    "papermill": {
     "duration": 0.04003,
     "end_time": "2024-05-07T10:39:09.656016",
     "exception": false,
     "start_time": "2024-05-07T10:39:09.615986",
     "status": "completed"
    },
    "tags": []
   },
   "outputs": [],
   "source": [
    "\n",
    "X = train_data.drop(['id', 'smoking'], axis=1)\n",
    "y = train_data['smoking']"
   ]
  },
  {
   "cell_type": "markdown",
   "id": "8b6f172d",
   "metadata": {
    "papermill": {
     "duration": 0.00868,
     "end_time": "2024-05-07T10:39:09.672253",
     "exception": false,
     "start_time": "2024-05-07T10:39:09.663573",
     "status": "completed"
    },
    "tags": []
   },
   "source": [
    "# Split the training data into train and validation sets"
   ]
  },
  {
   "cell_type": "code",
   "execution_count": 4,
   "id": "86e0a832",
   "metadata": {
    "_cell_guid": "b1076dfc-b9ad-4769-8c92-a6c4dae69d19",
    "_uuid": "8f2839f25d086af736a60e9eeb907d3b93b6e0e5",
    "execution": {
     "iopub.execute_input": "2024-05-07T10:39:09.693397Z",
     "iopub.status.busy": "2024-05-07T10:39:09.692697Z",
     "iopub.status.idle": "2024-05-07T10:39:09.747018Z",
     "shell.execute_reply": "2024-05-07T10:39:09.745733Z"
    },
    "papermill": {
     "duration": 0.068051,
     "end_time": "2024-05-07T10:39:09.749982",
     "exception": false,
     "start_time": "2024-05-07T10:39:09.681931",
     "status": "completed"
    },
    "tags": []
   },
   "outputs": [],
   "source": [
    "\n",
    "X_train, X_valid, y_train, y_valid = train_test_split(X, y, test_size=0.2, random_state=0)"
   ]
  },
  {
   "cell_type": "markdown",
   "id": "a357a72f",
   "metadata": {
    "papermill": {
     "duration": 0.00743,
     "end_time": "2024-05-07T10:39:09.766013",
     "exception": false,
     "start_time": "2024-05-07T10:39:09.758583",
     "status": "completed"
    },
    "tags": []
   },
   "source": [
    "# Train a Gradient Boosting Classifier model"
   ]
  },
  {
   "cell_type": "code",
   "execution_count": 5,
   "id": "277df6d3",
   "metadata": {
    "_cell_guid": "b1076dfc-b9ad-4769-8c92-a6c4dae69d19",
    "_uuid": "8f2839f25d086af736a60e9eeb907d3b93b6e0e5",
    "execution": {
     "iopub.execute_input": "2024-05-07T10:39:09.785510Z",
     "iopub.status.busy": "2024-05-07T10:39:09.784745Z",
     "iopub.status.idle": "2024-05-07T10:39:44.149334Z",
     "shell.execute_reply": "2024-05-07T10:39:44.147966Z"
    },
    "papermill": {
     "duration": 34.384864,
     "end_time": "2024-05-07T10:39:44.159806",
     "exception": false,
     "start_time": "2024-05-07T10:39:09.774942",
     "status": "completed"
    },
    "tags": []
   },
   "outputs": [
    {
     "data": {
      "text/html": [
       "<style>#sk-container-id-1 {color: black;background-color: white;}#sk-container-id-1 pre{padding: 0;}#sk-container-id-1 div.sk-toggleable {background-color: white;}#sk-container-id-1 label.sk-toggleable__label {cursor: pointer;display: block;width: 100%;margin-bottom: 0;padding: 0.3em;box-sizing: border-box;text-align: center;}#sk-container-id-1 label.sk-toggleable__label-arrow:before {content: \"▸\";float: left;margin-right: 0.25em;color: #696969;}#sk-container-id-1 label.sk-toggleable__label-arrow:hover:before {color: black;}#sk-container-id-1 div.sk-estimator:hover label.sk-toggleable__label-arrow:before {color: black;}#sk-container-id-1 div.sk-toggleable__content {max-height: 0;max-width: 0;overflow: hidden;text-align: left;background-color: #f0f8ff;}#sk-container-id-1 div.sk-toggleable__content pre {margin: 0.2em;color: black;border-radius: 0.25em;background-color: #f0f8ff;}#sk-container-id-1 input.sk-toggleable__control:checked~div.sk-toggleable__content {max-height: 200px;max-width: 100%;overflow: auto;}#sk-container-id-1 input.sk-toggleable__control:checked~label.sk-toggleable__label-arrow:before {content: \"▾\";}#sk-container-id-1 div.sk-estimator input.sk-toggleable__control:checked~label.sk-toggleable__label {background-color: #d4ebff;}#sk-container-id-1 div.sk-label input.sk-toggleable__control:checked~label.sk-toggleable__label {background-color: #d4ebff;}#sk-container-id-1 input.sk-hidden--visually {border: 0;clip: rect(1px 1px 1px 1px);clip: rect(1px, 1px, 1px, 1px);height: 1px;margin: -1px;overflow: hidden;padding: 0;position: absolute;width: 1px;}#sk-container-id-1 div.sk-estimator {font-family: monospace;background-color: #f0f8ff;border: 1px dotted black;border-radius: 0.25em;box-sizing: border-box;margin-bottom: 0.5em;}#sk-container-id-1 div.sk-estimator:hover {background-color: #d4ebff;}#sk-container-id-1 div.sk-parallel-item::after {content: \"\";width: 100%;border-bottom: 1px solid gray;flex-grow: 1;}#sk-container-id-1 div.sk-label:hover label.sk-toggleable__label {background-color: #d4ebff;}#sk-container-id-1 div.sk-serial::before {content: \"\";position: absolute;border-left: 1px solid gray;box-sizing: border-box;top: 0;bottom: 0;left: 50%;z-index: 0;}#sk-container-id-1 div.sk-serial {display: flex;flex-direction: column;align-items: center;background-color: white;padding-right: 0.2em;padding-left: 0.2em;position: relative;}#sk-container-id-1 div.sk-item {position: relative;z-index: 1;}#sk-container-id-1 div.sk-parallel {display: flex;align-items: stretch;justify-content: center;background-color: white;position: relative;}#sk-container-id-1 div.sk-item::before, #sk-container-id-1 div.sk-parallel-item::before {content: \"\";position: absolute;border-left: 1px solid gray;box-sizing: border-box;top: 0;bottom: 0;left: 50%;z-index: -1;}#sk-container-id-1 div.sk-parallel-item {display: flex;flex-direction: column;z-index: 1;position: relative;background-color: white;}#sk-container-id-1 div.sk-parallel-item:first-child::after {align-self: flex-end;width: 50%;}#sk-container-id-1 div.sk-parallel-item:last-child::after {align-self: flex-start;width: 50%;}#sk-container-id-1 div.sk-parallel-item:only-child::after {width: 0;}#sk-container-id-1 div.sk-dashed-wrapped {border: 1px dashed gray;margin: 0 0.4em 0.5em 0.4em;box-sizing: border-box;padding-bottom: 0.4em;background-color: white;}#sk-container-id-1 div.sk-label label {font-family: monospace;font-weight: bold;display: inline-block;line-height: 1.2em;}#sk-container-id-1 div.sk-label-container {text-align: center;}#sk-container-id-1 div.sk-container {/* jupyter's `normalize.less` sets `[hidden] { display: none; }` but bootstrap.min.css set `[hidden] { display: none !important; }` so we also need the `!important` here to be able to override the default hidden behavior on the sphinx rendered scikit-learn.org. See: https://github.com/scikit-learn/scikit-learn/issues/21755 */display: inline-block !important;position: relative;}#sk-container-id-1 div.sk-text-repr-fallback {display: none;}</style><div id=\"sk-container-id-1\" class=\"sk-top-container\"><div class=\"sk-text-repr-fallback\"><pre>GradientBoostingClassifier(random_state=0)</pre><b>In a Jupyter environment, please rerun this cell to show the HTML representation or trust the notebook. <br />On GitHub, the HTML representation is unable to render, please try loading this page with nbviewer.org.</b></div><div class=\"sk-container\" hidden><div class=\"sk-item\"><div class=\"sk-estimator sk-toggleable\"><input class=\"sk-toggleable__control sk-hidden--visually\" id=\"sk-estimator-id-1\" type=\"checkbox\" checked><label for=\"sk-estimator-id-1\" class=\"sk-toggleable__label sk-toggleable__label-arrow\">GradientBoostingClassifier</label><div class=\"sk-toggleable__content\"><pre>GradientBoostingClassifier(random_state=0)</pre></div></div></div></div></div>"
      ],
      "text/plain": [
       "GradientBoostingClassifier(random_state=0)"
      ]
     },
     "execution_count": 5,
     "metadata": {},
     "output_type": "execute_result"
    }
   ],
   "source": [
    "\n",
    "model = GradientBoostingClassifier(n_estimators=100, random_state=0)\n",
    "model.fit(X_train, y_train)"
   ]
  },
  {
   "cell_type": "markdown",
   "id": "701e7555",
   "metadata": {
    "papermill": {
     "duration": 0.007657,
     "end_time": "2024-05-07T10:39:44.175496",
     "exception": false,
     "start_time": "2024-05-07T10:39:44.167839",
     "status": "completed"
    },
    "tags": []
   },
   "source": [
    "# Make predictions on the validation set"
   ]
  },
  {
   "cell_type": "code",
   "execution_count": 6,
   "id": "5f6b44ac",
   "metadata": {
    "_cell_guid": "b1076dfc-b9ad-4769-8c92-a6c4dae69d19",
    "_uuid": "8f2839f25d086af736a60e9eeb907d3b93b6e0e5",
    "execution": {
     "iopub.execute_input": "2024-05-07T10:39:44.193679Z",
     "iopub.status.busy": "2024-05-07T10:39:44.193165Z",
     "iopub.status.idle": "2024-05-07T10:39:44.275135Z",
     "shell.execute_reply": "2024-05-07T10:39:44.273657Z"
    },
    "papermill": {
     "duration": 0.094778,
     "end_time": "2024-05-07T10:39:44.278251",
     "exception": false,
     "start_time": "2024-05-07T10:39:44.183473",
     "status": "completed"
    },
    "tags": []
   },
   "outputs": [],
   "source": [
    "\n",
    "valid_preds = model.predict_proba(X_valid)[:, 1]"
   ]
  },
  {
   "cell_type": "markdown",
   "id": "343700fe",
   "metadata": {
    "papermill": {
     "duration": 0.008109,
     "end_time": "2024-05-07T10:39:44.296125",
     "exception": false,
     "start_time": "2024-05-07T10:39:44.288016",
     "status": "completed"
    },
    "tags": []
   },
   "source": [
    "# Calculate AUROC on the validation set"
   ]
  },
  {
   "cell_type": "code",
   "execution_count": 7,
   "id": "81d32b2b",
   "metadata": {
    "_cell_guid": "b1076dfc-b9ad-4769-8c92-a6c4dae69d19",
    "_uuid": "8f2839f25d086af736a60e9eeb907d3b93b6e0e5",
    "execution": {
     "iopub.execute_input": "2024-05-07T10:39:44.314787Z",
     "iopub.status.busy": "2024-05-07T10:39:44.314340Z",
     "iopub.status.idle": "2024-05-07T10:39:44.340924Z",
     "shell.execute_reply": "2024-05-07T10:39:44.339882Z"
    },
    "papermill": {
     "duration": 0.039095,
     "end_time": "2024-05-07T10:39:44.343609",
     "exception": false,
     "start_time": "2024-05-07T10:39:44.304514",
     "status": "completed"
    },
    "tags": []
   },
   "outputs": [
    {
     "name": "stdout",
     "output_type": "stream",
     "text": [
      "AUROC on validation set: 0.8596612908980795\n"
     ]
    }
   ],
   "source": [
    "\n",
    "auroc = roc_auc_score(y_valid, valid_preds)\n",
    "print(\"AUROC on validation set:\", auroc)"
   ]
  },
  {
   "cell_type": "markdown",
   "id": "8b6fc476",
   "metadata": {
    "papermill": {
     "duration": 0.007604,
     "end_time": "2024-05-07T10:39:44.359312",
     "exception": false,
     "start_time": "2024-05-07T10:39:44.351708",
     "status": "completed"
    },
    "tags": []
   },
   "source": [
    "# Make predictions on the test set"
   ]
  },
  {
   "cell_type": "code",
   "execution_count": 8,
   "id": "0a1729a5",
   "metadata": {
    "_cell_guid": "b1076dfc-b9ad-4769-8c92-a6c4dae69d19",
    "_uuid": "8f2839f25d086af736a60e9eeb907d3b93b6e0e5",
    "execution": {
     "iopub.execute_input": "2024-05-07T10:39:44.377607Z",
     "iopub.status.busy": "2024-05-07T10:39:44.376964Z",
     "iopub.status.idle": "2024-05-07T10:39:44.645521Z",
     "shell.execute_reply": "2024-05-07T10:39:44.644073Z"
    },
    "papermill": {
     "duration": 0.28145,
     "end_time": "2024-05-07T10:39:44.648783",
     "exception": false,
     "start_time": "2024-05-07T10:39:44.367333",
     "status": "completed"
    },
    "tags": []
   },
   "outputs": [],
   "source": [
    "\n",
    "test_preds = model.predict_proba(test_data.drop('id', axis=1))[:, 1]"
   ]
  },
  {
   "cell_type": "markdown",
   "id": "d614e258",
   "metadata": {
    "papermill": {
     "duration": 0.00768,
     "end_time": "2024-05-07T10:39:44.665232",
     "exception": false,
     "start_time": "2024-05-07T10:39:44.657552",
     "status": "completed"
    },
    "tags": []
   },
   "source": [
    "# Prepare submission file"
   ]
  },
  {
   "cell_type": "code",
   "execution_count": 9,
   "id": "a273fddb",
   "metadata": {
    "_cell_guid": "b1076dfc-b9ad-4769-8c92-a6c4dae69d19",
    "_uuid": "8f2839f25d086af736a60e9eeb907d3b93b6e0e5",
    "execution": {
     "iopub.execute_input": "2024-05-07T10:39:44.684840Z",
     "iopub.status.busy": "2024-05-07T10:39:44.684393Z",
     "iopub.status.idle": "2024-05-07T10:39:44.691402Z",
     "shell.execute_reply": "2024-05-07T10:39:44.690178Z"
    },
    "papermill": {
     "duration": 0.021191,
     "end_time": "2024-05-07T10:39:44.694311",
     "exception": false,
     "start_time": "2024-05-07T10:39:44.673120",
     "status": "completed"
    },
    "tags": []
   },
   "outputs": [],
   "source": [
    "\n",
    "submission_df = pd.DataFrame({'id': test_data['id'], 'smoking': test_preds})"
   ]
  },
  {
   "cell_type": "markdown",
   "id": "ff77ee57",
   "metadata": {
    "papermill": {
     "duration": 0.007785,
     "end_time": "2024-05-07T10:39:44.710306",
     "exception": false,
     "start_time": "2024-05-07T10:39:44.702521",
     "status": "completed"
    },
    "tags": []
   },
   "source": [
    "# Save submission file"
   ]
  },
  {
   "cell_type": "code",
   "execution_count": 10,
   "id": "2b0c581e",
   "metadata": {
    "_cell_guid": "b1076dfc-b9ad-4769-8c92-a6c4dae69d19",
    "_uuid": "8f2839f25d086af736a60e9eeb907d3b93b6e0e5",
    "execution": {
     "iopub.execute_input": "2024-05-07T10:39:44.728938Z",
     "iopub.status.busy": "2024-05-07T10:39:44.728510Z",
     "iopub.status.idle": "2024-05-07T10:39:45.096233Z",
     "shell.execute_reply": "2024-05-07T10:39:45.094992Z"
    },
    "papermill": {
     "duration": 0.380396,
     "end_time": "2024-05-07T10:39:45.099074",
     "exception": false,
     "start_time": "2024-05-07T10:39:44.718678",
     "status": "completed"
    },
    "tags": []
   },
   "outputs": [],
   "source": [
    "\n",
    "submission_df.to_csv('submission.csv', index=False)"
   ]
  },
  {
   "cell_type": "code",
   "execution_count": 11,
   "id": "a08f3fd1",
   "metadata": {
    "execution": {
     "iopub.execute_input": "2024-05-07T10:39:45.117088Z",
     "iopub.status.busy": "2024-05-07T10:39:45.116688Z",
     "iopub.status.idle": "2024-05-07T10:39:45.121960Z",
     "shell.execute_reply": "2024-05-07T10:39:45.120584Z"
    },
    "papermill": {
     "duration": 0.017225,
     "end_time": "2024-05-07T10:39:45.124342",
     "exception": false,
     "start_time": "2024-05-07T10:39:45.107117",
     "status": "completed"
    },
    "tags": []
   },
   "outputs": [],
   "source": [
    "import matplotlib.pyplot as plt\n",
    "from sklearn.metrics import roc_curve, accuracy_score"
   ]
  },
  {
   "cell_type": "markdown",
   "id": "4c063d1a",
   "metadata": {
    "papermill": {
     "duration": 0.008048,
     "end_time": "2024-05-07T10:39:45.141363",
     "exception": false,
     "start_time": "2024-05-07T10:39:45.133315",
     "status": "completed"
    },
    "tags": []
   },
   "source": [
    "# Plot ROC curve"
   ]
  },
  {
   "cell_type": "code",
   "execution_count": 12,
   "id": "3090df05",
   "metadata": {
    "execution": {
     "iopub.execute_input": "2024-05-07T10:39:45.161147Z",
     "iopub.status.busy": "2024-05-07T10:39:45.159780Z",
     "iopub.status.idle": "2024-05-07T10:39:45.483567Z",
     "shell.execute_reply": "2024-05-07T10:39:45.480839Z"
    },
    "papermill": {
     "duration": 0.337456,
     "end_time": "2024-05-07T10:39:45.486827",
     "exception": false,
     "start_time": "2024-05-07T10:39:45.149371",
     "status": "completed"
    },
    "tags": []
   },
   "outputs": [
    {
     "data": {
      "image/png": "[encoded data removed]",
      "text/plain": [
       "<Figure size 640x480 with 1 Axes>"
      ]
     },
     "metadata": {},
     "output_type": "display_data"
    }
   ],
   "source": [
    "\n",
    "fpr, tpr, thresholds = roc_curve(y_valid, valid_preds)\n",
    "plt.plot(fpr, tpr, label='ROC curve (area = %0.2f)' % auroc)\n",
    "plt.plot([0, 1], [0, 1], 'k--')\n",
    "plt.xlabel('False Positive Rate')\n",
    "plt.ylabel('True Positive Rate')\n",
    "plt.title('Receiver Operating Characteristic (ROC) Curve')\n",
    "plt.legend(loc='lower right')\n",
    "plt.show()"
   ]
  },
  {
   "cell_type": "markdown",
   "id": "5bcdf535",
   "metadata": {
    "papermill": {
     "duration": 0.00856,
     "end_time": "2024-05-07T10:39:45.504454",
     "exception": false,
     "start_time": "2024-05-07T10:39:45.495894",
     "status": "completed"
    },
    "tags": []
   },
   "source": [
    "# Calculate accuracy"
   ]
  },
  {
   "cell_type": "code",
   "execution_count": 13,
   "id": "ff5a7d78",
   "metadata": {
    "execution": {
     "iopub.execute_input": "2024-05-07T10:39:45.524406Z",
     "iopub.status.busy": "2024-05-07T10:39:45.523570Z",
     "iopub.status.idle": "2024-05-07T10:39:45.535278Z",
     "shell.execute_reply": "2024-05-07T10:39:45.533719Z"
    },
    "papermill": {
     "duration": 0.024537,
     "end_time": "2024-05-07T10:39:45.537867",
     "exception": false,
     "start_time": "2024-05-07T10:39:45.513330",
     "status": "completed"
    },
    "tags": []
   },
   "outputs": [
    {
     "name": "stdout",
     "output_type": "stream",
     "text": [
      "Accuracy: 0.7771254552304407\n"
     ]
    }
   ],
   "source": [
    "\n",
    "valid_preds_binary = (valid_preds > 0.5).astype(int)\n",
    "accuracy = accuracy_score(y_valid, valid_preds_binary)\n",
    "print(\"Accuracy:\", accuracy)"
   ]
  }
 ],
 "metadata": {
  "kaggle": {
   "accelerator": "none",
   "dataSources": [
    {
     "databundleVersionId": 6622892,
     "sourceId": 60891,
     "sourceType": "competition"
    }
   ],
   "dockerImageVersionId": 30698,
   "isGpuEnabled": false,
   "isInternetEnabled": true,
   "language": "python",
   "sourceType": "notebook"
  },
  "kernelspec": {
   "display_name": "Python 3",
   "language": "python",
   "name": "python3"
  },
  "language_info": {
   "codemirror_mode": {
    "name": "ipython",
    "version": 3
   },
   "file_extension": ".py",
   "mimetype": "text/x-python",
   "name": "python",
   "nbconvert_exporter": "python",
   "pygments_lexer": "ipython3",
   "version": "3.10.13"
  },
  "papermill": {
   "default_parameters": {},
   "duration": 44.293203,
   "end_time": "2024-05-07T10:39:46.272100",
   "environment_variables": {},
   "exception": null,
   "input_path": "__notebook__.ipynb",
   "output_path": "__notebook__.ipynb",
   "parameters": {},
   "start_time": "2024-05-07T10:39:01.978897",
   "version": "2.5.0"
  }
 },
 "nbformat": 4,
 "nbformat_minor": 5
}
